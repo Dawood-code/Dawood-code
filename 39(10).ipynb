{
  "cells": [
    {
      "cell_type": "markdown",
      "metadata": {
        "id": "view-in-github",
        "colab_type": "text"
      },
      "source": [
        "<a href=\"https://colab.research.google.com/github/Dawood-code/Dawood-code/blob/main/39(10).ipynb\" target=\"_parent\"><img src=\"https://colab.research.google.com/assets/colab-badge.svg\" alt=\"Open In Colab\"/></a>"
      ]
    },
    {
      "cell_type": "code",
      "execution_count": 1,
      "id": "f29a6798",
      "metadata": {
        "id": "f29a6798"
      },
      "outputs": [],
      "source": [
        "\"\"\"Name : Muhammad Dawood\n",
        "   Roll no : 39\n",
        "   Section A\n",
        "   PF Lab Task\n",
        "   Set 10\n",
        "   Submitted To Sir Mohsin \"\"\"\n",
        "\n",
        "\n",
        "\n",
        "\n",
        "# Problem R 14\n",
        "\"\"\"Define a dictionary that maps the course numbers of the courses you are currently\n",
        "taking to their corresponding course titles.\"\"\"\n",
        "\n",
        "\n",
        "courses = {\n",
        "    \"CS100\": \"Programming Fundamentals\",\n",
        "    \"AICT101\": \"Application of Information Technology\",\n",
        "    \"PHYS111\": \"Applied Physics\",\n",
        "    \"Calculus101\": \"Calculus\",\n",
        "    \"DM102\": \"Discrete Mathematics\"\n",
        "}\n"
      ]
    },
    {
      "cell_type": "code",
      "execution_count": 2,
      "id": "34d5a4e8",
      "metadata": {
        "id": "34d5a4e8"
      },
      "outputs": [],
      "source": [
        "# Problem R 15\n",
        "\"\"\"Define a dictionary that maps the ISBN number of your textbooks to their titles.\"\"\"\n",
        "\n",
        "textbooks = {\n",
        "    \"1119455651\": \"Python for Everyone\",\n",
        "    \"013487546X\": \"Computer Science: An Overview\",\n",
        "    \"1118230728\": \"Fundamentals of Physics\",\n",
        "    \"0134438981\": \"Thomas' Calculus\",\n",
        "    \"0073383090\": \"Discrete Mathematics and Its Applications by Rosen\"\n",
        "}\n"
      ]
    },
    {
      "cell_type": "code",
      "execution_count": null,
      "id": "6e4486fd",
      "metadata": {
        "colab": {
          "base_uri": "https://localhost:8080/"
        },
        "id": "6e4486fd",
        "outputId": "dc29b520-ec8e-4620-a497-add81bbf8dc6"
      },
      "outputs": [
        {
          "output_type": "stream",
          "name": "stdout",
          "text": [
            "\n",
            "Choose an option:\n",
            "1. Add a student\n",
            "2. Remove a student\n",
            "3. Modify a grade\n",
            "4. Print all grades\n",
            "5. Quit\n"
          ]
        }
      ],
      "source": [
        "# Problem P 5\n",
        "\"\"\"Write a program that keeps a dictionary in which both keys\n",
        "and values are strings—names of students and their course\n",
        "grades. Prompt the user of the program to add or remove\n",
        "students, to modify grades, or to print all grades. The printout should be sorted by\n",
        "name and formatted like this:\n",
        " Carl: B+\n",
        " Joe: C\n",
        " Sarah: A\n",
        " Francine: A\"\"\"\n",
        "\n",
        "\n",
        "grades = {}\n",
        "\n",
        "while True:\n",
        "    print(\"\\nChoose an option:\")\n",
        "    print(\"1. Add a student\")\n",
        "    print(\"2. Remove a student\")\n",
        "    print(\"3. Modify a grade\")\n",
        "    print(\"4. Print all grades\")\n",
        "    print(\"5. Quit\")\n",
        "\n",
        "    choice = input(\"Enter your choice (1-5): \")\n",
        "\n",
        "    if choice == \"1\":\n",
        "        name = input(\"Enter student name: \")\n",
        "        grade = input(\"Enter grade: \")\n",
        "        grades[name] = grade\n",
        "        print(f\"{name} added with grade {grade}.\")\n",
        "\n",
        "    elif choice == \"2\":\n",
        "        name = input(\"Enter student name to remove: \")\n",
        "        if name in grades:\n",
        "            del grades[name]\n",
        "            print(f\"{name} removed.\")\n",
        "        else:\n",
        "            print(\"Student not found.\")\n",
        "\n",
        "    elif choice == \"3\":\n",
        "        name = input(\"Enter student name to modify: \")\n",
        "        if name in grades:\n",
        "            new_grade = input(\"Enter new grade: \")\n",
        "            grades[name] = new_grade\n",
        "            print(f\"{name}'s grade updated to {new_grade}.\")\n",
        "        else:\n",
        "            print(\"Student not found.\")\n",
        "\n",
        "    elif choice == \"4\":\n",
        "        if grades:\n",
        "            print(\"\\nStudent Grades:\")\n",
        "            for name in sorted(grades):\n",
        "                print(f\"{name}: {grades[name]}\")\n",
        "        else:\n",
        "            print(\"No grades to display.\")\n",
        "\n",
        "    elif choice == \"5\":\n",
        "        print(\"Exiting program.\")\n",
        "        break\n",
        "\n",
        "    else:\n",
        "        print(\"Invalid choice. Please enter a number from 1 to 5.\")\n"
      ]
    },
    {
      "cell_type": "code",
      "execution_count": null,
      "id": "f83e0f0f",
      "metadata": {
        "id": "f83e0f0f"
      },
      "outputs": [],
      "source": [
        "# Problem P 8.22\n",
        "\"\"\"\"A sparse array is a sequence of numbers in which most entries are zero. An efficient\n",
        "way of storing a sparse array is a dictionary in which the keys are the positions with\n",
        "nonzero values, and the values are the corresponding values in the sequence. For\n",
        "example, the sequence 0 0 0 0 0 4 0 0 0 2 9 would be represented with the dictionary\n",
        "{ 5: 4, 9: 2, 10: 9 }. Write a function sparseArraySum, whose arguments are two such\n",
        "dictionaries a and b, that produces a sparse array that is the vector sum; that is, the\n",
        "result’s value at position i is the sum of the values of a and b at position i.\"\"\"\n",
        "\n",
        "\n",
        "\n",
        "a = {5: 4, 9: 2, 10: 9}\n",
        "b = {2: 7, 9: 3, 10: -9}\n",
        "\n",
        "result = {}\n",
        "\n",
        "for key in a:\n",
        "    result[key] = a[key]\n",
        "\n",
        "for key in b:\n",
        "    if key in result:\n",
        "        result[key] += b[key]\n",
        "    else:\n",
        "        result[key] = b[key]\n",
        "\n",
        "result = {k: v for k, v in result.items() if v != 0}\n",
        "\n",
        "print(result)\n"
      ]
    }
  ],
  "metadata": {
    "kernelspec": {
      "display_name": "Python 3",
      "language": "python",
      "name": "python3"
    },
    "language_info": {
      "name": "python",
      "version": "3.13.2"
    },
    "colab": {
      "provenance": [],
      "include_colab_link": true
    }
  },
  "nbformat": 4,
  "nbformat_minor": 5
}