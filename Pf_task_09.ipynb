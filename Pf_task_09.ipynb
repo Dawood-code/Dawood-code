{
  "cells": [
    {
      "cell_type": "markdown",
      "metadata": {
        "id": "view-in-github",
        "colab_type": "text"
      },
      "source": [
        "<a href=\"https://colab.research.google.com/github/Dawood-code/Dawood-code/blob/main/Pf_task_09.ipynb\" target=\"_parent\"><img src=\"https://colab.research.google.com/assets/colab-badge.svg\" alt=\"Open In Colab\"/></a>"
      ]
    },
    {
      "cell_type": "code",
      "execution_count": 1,
      "id": "fc0ff8b3",
      "metadata": {
        "colab": {
          "base_uri": "https://localhost:8080/"
        },
        "id": "fc0ff8b3",
        "outputId": "5bd9b790-3272-46c9-ead1-34149a83bf54"
      },
      "outputs": [
        {
          "output_type": "stream",
          "name": "stdout",
          "text": [
            "bdegooy\n"
          ]
        }
      ],
      "source": [
        "\"\"\"Name : Muhammad Dawood\n",
        "   Roll no : 39\n",
        "   Section A\n",
        "   PF Lab Task\n",
        "   Set 9\n",
        "   Submitted To Sir Mohsin \"\"\"\n",
        "\n",
        "\n",
        "# Problem R 5.16\n",
        "\"\"\"Give pseudocode for a recursive function that sorts all letters in a string. For exam\n",
        "ple, the string \"goodbye\" would be sorted into \"bdegooy\" .\"\"\"\n",
        "\n",
        "def recursive_sort_string(s):\n",
        "    if len(s) <= 1:\n",
        "        return s\n",
        "    else:\n",
        "        pivot = s[0]\n",
        "        less = [char for char in s[1:] if char < pivot]\n",
        "        greater = [char for char in s[1:] if char >= pivot]\n",
        "        return recursive_sort_string(''.join(less)) + pivot + recursive_sort_string(''.join(greater))\n",
        "\n",
        "# Examples\n",
        "input_string = \"goodbye\"\n",
        "sorted_string = recursive_sort_string(input_string)\n",
        "print(sorted_string)"
      ]
    },
    {
      "cell_type": "code",
      "execution_count": 2,
      "id": "a02717ac",
      "metadata": {
        "colab": {
          "base_uri": "https://localhost:8080/"
        },
        "id": "a02717ac",
        "outputId": "8e9af0c7-7c09-449d-981d-a781f23fa809"
      },
      "outputs": [
        {
          "output_type": "stream",
          "name": "stdout",
          "text": [
            "True\n",
            "False\n"
          ]
        }
      ],
      "source": [
        "# Problem P 5.16\n",
        "\"\"\"Write a recursive function\n",
        "def isPalindrome(string)\n",
        " that returns True if string is a palindrome, that is, a word that is the same when\n",
        "reversed. Examples of palin dromes are “deed”, “rotor”, or “aibohphobia”. Hint: A\n",
        "word is a palindrome if the first and last letters match and the remainder is also a\n",
        "palindrome.\"\"\"\n",
        "\n",
        "def isPalindrome(string):\n",
        "\n",
        "    if len(string) <= 1:\n",
        "        return True\n",
        "\n",
        "\n",
        "    if string[0] != string[-1]:\n",
        "        return False\n",
        "\n",
        "\n",
        "    return isPalindrome(string[1:-1])\n",
        "\n",
        "# Examples\n",
        "print(isPalindrome(\"deed\"))\n",
        "print(isPalindrome(\"hello\"))\n"
      ]
    },
    {
      "cell_type": "code",
      "execution_count": 3,
      "id": "9745be61",
      "metadata": {
        "colab": {
          "base_uri": "https://localhost:8080/"
        },
        "id": "9745be61",
        "outputId": "28d82c10-42a0-49ca-dd8f-ac04ec5bcdfa"
      },
      "outputs": [
        {
          "output_type": "stream",
          "name": "stdout",
          "text": [
            "1\n",
            "9\n"
          ]
        }
      ],
      "source": [
        "# Problem P 5.18\n",
        "\"\"\"Use recursion to determine the number of digits in an integer n. Hint: If n is < 10, it\n",
        "has one digit. Otherwise, it has one more digit than n // 10.\"\"\"\n",
        "\n",
        "\n",
        "def count_digits(n):\n",
        "\n",
        "    if n < 10:\n",
        "        return 1\n",
        "    else:\n",
        "\n",
        "        return 1 + count_digits(n // 10)\n",
        "\n",
        "# Examples\n",
        "print(count_digits(7))\n",
        "print(count_digits(987654321))\n"
      ]
    },
    {
      "cell_type": "code",
      "execution_count": 4,
      "id": "21850e86",
      "metadata": {
        "colab": {
          "base_uri": "https://localhost:8080/"
        },
        "id": "21850e86",
        "outputId": "b316d552-26b7-4216-b58f-b731cd76cf74"
      },
      "outputs": [
        {
          "output_type": "stream",
          "name": "stdout",
          "text": [
            "True\n",
            "False\n"
          ]
        }
      ],
      "source": [
        "# Problem P 5.20\n",
        "\"\"\"Leap years. Write a function\n",
        " def isLeapYear(year)\n",
        " that tests whether a year is a leap year: that is, a year with 366 days. Exercise P3.27\n",
        "describes how to test whether a year is a leap year. In this exercise, use multiple if\n",
        "statements and return statements to return the result as soon as you know it.\"\"\"\n",
        "\n",
        "def isLeapYear(year):\n",
        "    if year % 400 == 0:\n",
        "        return True\n",
        "\n",
        "    elif year % 100 == 0:\n",
        "        return False\n",
        "\n",
        "    elif year % 4 == 0:\n",
        "        return True\n",
        "    \\\n",
        "    else:\n",
        "        return False\n",
        "\n",
        "# Examples\n",
        "print(isLeapYear(2020))\n",
        "print(isLeapYear(1900))\n",
        "\n"
      ]
    }
  ],
  "metadata": {
    "kernelspec": {
      "display_name": "Python 3",
      "language": "python",
      "name": "python3"
    },
    "language_info": {
      "name": "python",
      "version": "3.13.3"
    },
    "colab": {
      "provenance": [],
      "include_colab_link": true
    }
  },
  "nbformat": 4,
  "nbformat_minor": 5
}